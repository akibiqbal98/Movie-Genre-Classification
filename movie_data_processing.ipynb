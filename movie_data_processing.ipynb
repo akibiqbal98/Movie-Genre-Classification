{
 "cells": [
  {
   "attachments": {},
   "cell_type": "markdown",
   "metadata": {},
   "source": [
    "# Data cleaning"
   ]
  },
  {
   "cell_type": "code",
   "execution_count": 1,
   "metadata": {},
   "outputs": [],
   "source": [
    "import pandas as pd\n",
    "import numpy as np"
   ]
  },
  {
   "cell_type": "code",
   "execution_count": 22,
   "metadata": {},
   "outputs": [],
   "source": [
    "df1 = pd.read_json('all_movie_data.json')\n",
    "df2 = pd.read_json('new_all_movie_data.json')\n",
    "\n",
    "df2 = pd.concat([df1, df2], axis=0)\n",
    "\n",
    "df = pd.concat([df1, df2], axis=0)\n",
    "df = df.reset_index(drop=True)\n"
   ]
  },
  {
   "cell_type": "code",
   "execution_count": 23,
   "metadata": {},
   "outputs": [
    {
     "data": {
      "text/plain": [
       "(8750, 5)"
      ]
     },
     "execution_count": 23,
     "metadata": {},
     "output_type": "execute_result"
    }
   ],
   "source": [
    "df1.shape"
   ]
  },
  {
   "cell_type": "code",
   "execution_count": 24,
   "metadata": {},
   "outputs": [
    {
     "data": {
      "text/plain": [
       "(22250, 5)"
      ]
     },
     "execution_count": 24,
     "metadata": {},
     "output_type": "execute_result"
    }
   ],
   "source": [
    "df2.shape"
   ]
  },
  {
   "cell_type": "code",
   "execution_count": 25,
   "metadata": {},
   "outputs": [
    {
     "data": {
      "text/plain": [
       "(31000, 5)"
      ]
     },
     "execution_count": 25,
     "metadata": {},
     "output_type": "execute_result"
    }
   ],
   "source": [
    "df.shape"
   ]
  },
  {
   "cell_type": "code",
   "execution_count": 26,
   "metadata": {},
   "outputs": [],
   "source": [
    "df.to_csv('final_movie_details.csv')"
   ]
  },
  {
   "cell_type": "code",
   "execution_count": 27,
   "metadata": {},
   "outputs": [
    {
     "data": {
      "text/html": [
       "<div>\n",
       "<style scoped>\n",
       "    .dataframe tbody tr th:only-of-type {\n",
       "        vertical-align: middle;\n",
       "    }\n",
       "\n",
       "    .dataframe tbody tr th {\n",
       "        vertical-align: top;\n",
       "    }\n",
       "\n",
       "    .dataframe thead th {\n",
       "        text-align: right;\n",
       "    }\n",
       "</style>\n",
       "<table border=\"1\" class=\"dataframe\">\n",
       "  <thead>\n",
       "    <tr style=\"text-align: right;\">\n",
       "      <th></th>\n",
       "      <th>Movie Name</th>\n",
       "      <th>Release Year</th>\n",
       "      <th>Rating</th>\n",
       "      <th>Description</th>\n",
       "      <th>Genre</th>\n",
       "    </tr>\n",
       "  </thead>\n",
       "  <tbody>\n",
       "    <tr>\n",
       "      <th>0</th>\n",
       "      <td>You People</td>\n",
       "      <td>2023.0</td>\n",
       "      <td>5.5</td>\n",
       "      <td>Follows a new couple and their families, who f...</td>\n",
       "      <td>[Comedy,  Romance]</td>\n",
       "    </tr>\n",
       "    <tr>\n",
       "      <th>1</th>\n",
       "      <td>Babylon</td>\n",
       "      <td>2022.0</td>\n",
       "      <td>7.4</td>\n",
       "      <td>A tale of outsized ambition and outrageous exc...</td>\n",
       "      <td>[Comedy,  Drama,  History]</td>\n",
       "    </tr>\n",
       "    <tr>\n",
       "      <th>2</th>\n",
       "      <td>Black Panther: Wakanda Forever</td>\n",
       "      <td>2022.0</td>\n",
       "      <td>6.9</td>\n",
       "      <td>The people of Wakanda fight to protect their h...</td>\n",
       "      <td>[Action,  Adventure,  Drama]</td>\n",
       "    </tr>\n",
       "    <tr>\n",
       "      <th>3</th>\n",
       "      <td>Avatar: The Way of Water</td>\n",
       "      <td>2022.0</td>\n",
       "      <td>7.8</td>\n",
       "      <td>Jake Sully lives with his newfound family form...</td>\n",
       "      <td>[Action,  Adventure,  Fantasy]</td>\n",
       "    </tr>\n",
       "    <tr>\n",
       "      <th>4</th>\n",
       "      <td>The Menu</td>\n",
       "      <td>2022.0</td>\n",
       "      <td>7.2</td>\n",
       "      <td>A young couple travels to a remote island to e...</td>\n",
       "      <td>[Horror,  Thriller]</td>\n",
       "    </tr>\n",
       "    <tr>\n",
       "      <th>...</th>\n",
       "      <td>...</td>\n",
       "      <td>...</td>\n",
       "      <td>...</td>\n",
       "      <td>...</td>\n",
       "      <td>...</td>\n",
       "    </tr>\n",
       "    <tr>\n",
       "      <th>30995</th>\n",
       "      <td>West End</td>\n",
       "      <td>2013.0</td>\n",
       "      <td>6.1</td>\n",
       "      <td>Vic Trevi is an undercover FBI agent positione...</td>\n",
       "      <td>[Crime,  Drama]</td>\n",
       "    </tr>\n",
       "    <tr>\n",
       "      <th>30996</th>\n",
       "      <td>Bach in Brazil</td>\n",
       "      <td>2015.0</td>\n",
       "      <td>6.1</td>\n",
       "      <td>Inspired by true events, this is a story about...</td>\n",
       "      <td>[Comedy,  Drama,  Music]</td>\n",
       "    </tr>\n",
       "    <tr>\n",
       "      <th>30997</th>\n",
       "      <td>Ghost from the Machine</td>\n",
       "      <td>2010.0</td>\n",
       "      <td>5.6</td>\n",
       "      <td>After his parents are killed in a car accident...</td>\n",
       "      <td>[Horror,  Sci-Fi]</td>\n",
       "    </tr>\n",
       "    <tr>\n",
       "      <th>30998</th>\n",
       "      <td>Redlegs</td>\n",
       "      <td>2012.0</td>\n",
       "      <td>6.6</td>\n",
       "      <td>A comedic drama set amongst grieving twenty-so...</td>\n",
       "      <td>[Drama]</td>\n",
       "    </tr>\n",
       "    <tr>\n",
       "      <th>30999</th>\n",
       "      <td>Ali &amp; Alia</td>\n",
       "      <td>2019.0</td>\n",
       "      <td>5.1</td>\n",
       "      <td>Ali and Alia are childhood neighbors that fell...</td>\n",
       "      <td>[Drama,  Romance]</td>\n",
       "    </tr>\n",
       "  </tbody>\n",
       "</table>\n",
       "<p>31000 rows × 5 columns</p>\n",
       "</div>"
      ],
      "text/plain": [
       "                           Movie Name  Release Year  Rating  \\\n",
       "0                          You People        2023.0     5.5   \n",
       "1                             Babylon        2022.0     7.4   \n",
       "2      Black Panther: Wakanda Forever        2022.0     6.9   \n",
       "3            Avatar: The Way of Water        2022.0     7.8   \n",
       "4                            The Menu        2022.0     7.2   \n",
       "...                               ...           ...     ...   \n",
       "30995                        West End        2013.0     6.1   \n",
       "30996                  Bach in Brazil        2015.0     6.1   \n",
       "30997          Ghost from the Machine        2010.0     5.6   \n",
       "30998                         Redlegs        2012.0     6.6   \n",
       "30999                      Ali & Alia        2019.0     5.1   \n",
       "\n",
       "                                             Description  \\\n",
       "0      Follows a new couple and their families, who f...   \n",
       "1      A tale of outsized ambition and outrageous exc...   \n",
       "2      The people of Wakanda fight to protect their h...   \n",
       "3      Jake Sully lives with his newfound family form...   \n",
       "4      A young couple travels to a remote island to e...   \n",
       "...                                                  ...   \n",
       "30995  Vic Trevi is an undercover FBI agent positione...   \n",
       "30996  Inspired by true events, this is a story about...   \n",
       "30997  After his parents are killed in a car accident...   \n",
       "30998  A comedic drama set amongst grieving twenty-so...   \n",
       "30999  Ali and Alia are childhood neighbors that fell...   \n",
       "\n",
       "                                Genre  \n",
       "0                  [Comedy,  Romance]  \n",
       "1          [Comedy,  Drama,  History]  \n",
       "2        [Action,  Adventure,  Drama]  \n",
       "3      [Action,  Adventure,  Fantasy]  \n",
       "4                 [Horror,  Thriller]  \n",
       "...                               ...  \n",
       "30995                 [Crime,  Drama]  \n",
       "30996        [Comedy,  Drama,  Music]  \n",
       "30997               [Horror,  Sci-Fi]  \n",
       "30998                         [Drama]  \n",
       "30999               [Drama,  Romance]  \n",
       "\n",
       "[31000 rows x 5 columns]"
      ]
     },
     "execution_count": 27,
     "metadata": {},
     "output_type": "execute_result"
    }
   ],
   "source": [
    "df"
   ]
  },
  {
   "cell_type": "code",
   "execution_count": 31,
   "metadata": {},
   "outputs": [
    {
     "name": "stdout",
     "output_type": "stream",
     "text": [
      "<class 'pandas.core.frame.DataFrame'>\n",
      "RangeIndex: 31000 entries, 0 to 30999\n",
      "Data columns (total 5 columns):\n",
      " #   Column        Non-Null Count  Dtype  \n",
      "---  ------        --------------  -----  \n",
      " 0   Movie Name    31000 non-null  object \n",
      " 1   Release Year  30995 non-null  float64\n",
      " 2   Rating        31000 non-null  float64\n",
      " 3   Description   31000 non-null  object \n",
      " 4   Genre         30950 non-null  object \n",
      "dtypes: float64(2), object(3)\n",
      "memory usage: 1.2+ MB\n"
     ]
    }
   ],
   "source": [
    "df.info()"
   ]
  },
  {
   "cell_type": "code",
   "execution_count": 40,
   "metadata": {},
   "outputs": [],
   "source": [
    "# df['Release Year'] = df['Release Year'].astype(int) # didn't work\n",
    "\n",
    "# df['Release Year'] = pd.to_numeric(df['Release Year'], downcast='integer', errors='coerce')\n",
    "# df['Release Year'] = df['Release Year'].astype(int)\n",
    "\n",
    "df['Release Year'] = df['Release Year'].astype(str).str[:4]"
   ]
  },
  {
   "cell_type": "code",
   "execution_count": 41,
   "metadata": {},
   "outputs": [
    {
     "data": {
      "text/html": [
       "<div>\n",
       "<style scoped>\n",
       "    .dataframe tbody tr th:only-of-type {\n",
       "        vertical-align: middle;\n",
       "    }\n",
       "\n",
       "    .dataframe tbody tr th {\n",
       "        vertical-align: top;\n",
       "    }\n",
       "\n",
       "    .dataframe thead th {\n",
       "        text-align: right;\n",
       "    }\n",
       "</style>\n",
       "<table border=\"1\" class=\"dataframe\">\n",
       "  <thead>\n",
       "    <tr style=\"text-align: right;\">\n",
       "      <th></th>\n",
       "      <th>Movie Name</th>\n",
       "      <th>Release Year</th>\n",
       "      <th>Rating</th>\n",
       "      <th>Description</th>\n",
       "      <th>Genre</th>\n",
       "    </tr>\n",
       "  </thead>\n",
       "  <tbody>\n",
       "    <tr>\n",
       "      <th>0</th>\n",
       "      <td>You People</td>\n",
       "      <td>2023</td>\n",
       "      <td>5.5</td>\n",
       "      <td>Follows a new couple and their families, who f...</td>\n",
       "      <td>[Comedy,  Romance]</td>\n",
       "    </tr>\n",
       "    <tr>\n",
       "      <th>1</th>\n",
       "      <td>Babylon</td>\n",
       "      <td>2022</td>\n",
       "      <td>7.4</td>\n",
       "      <td>A tale of outsized ambition and outrageous exc...</td>\n",
       "      <td>[Comedy,  Drama,  History]</td>\n",
       "    </tr>\n",
       "    <tr>\n",
       "      <th>2</th>\n",
       "      <td>Black Panther: Wakanda Forever</td>\n",
       "      <td>2022</td>\n",
       "      <td>6.9</td>\n",
       "      <td>The people of Wakanda fight to protect their h...</td>\n",
       "      <td>[Action,  Adventure,  Drama]</td>\n",
       "    </tr>\n",
       "    <tr>\n",
       "      <th>3</th>\n",
       "      <td>Avatar: The Way of Water</td>\n",
       "      <td>2022</td>\n",
       "      <td>7.8</td>\n",
       "      <td>Jake Sully lives with his newfound family form...</td>\n",
       "      <td>[Action,  Adventure,  Fantasy]</td>\n",
       "    </tr>\n",
       "    <tr>\n",
       "      <th>4</th>\n",
       "      <td>The Menu</td>\n",
       "      <td>2022</td>\n",
       "      <td>7.2</td>\n",
       "      <td>A young couple travels to a remote island to e...</td>\n",
       "      <td>[Horror,  Thriller]</td>\n",
       "    </tr>\n",
       "    <tr>\n",
       "      <th>...</th>\n",
       "      <td>...</td>\n",
       "      <td>...</td>\n",
       "      <td>...</td>\n",
       "      <td>...</td>\n",
       "      <td>...</td>\n",
       "    </tr>\n",
       "    <tr>\n",
       "      <th>30995</th>\n",
       "      <td>West End</td>\n",
       "      <td>2013</td>\n",
       "      <td>6.1</td>\n",
       "      <td>Vic Trevi is an undercover FBI agent positione...</td>\n",
       "      <td>[Crime,  Drama]</td>\n",
       "    </tr>\n",
       "    <tr>\n",
       "      <th>30996</th>\n",
       "      <td>Bach in Brazil</td>\n",
       "      <td>2015</td>\n",
       "      <td>6.1</td>\n",
       "      <td>Inspired by true events, this is a story about...</td>\n",
       "      <td>[Comedy,  Drama,  Music]</td>\n",
       "    </tr>\n",
       "    <tr>\n",
       "      <th>30997</th>\n",
       "      <td>Ghost from the Machine</td>\n",
       "      <td>2010</td>\n",
       "      <td>5.6</td>\n",
       "      <td>After his parents are killed in a car accident...</td>\n",
       "      <td>[Horror,  Sci-Fi]</td>\n",
       "    </tr>\n",
       "    <tr>\n",
       "      <th>30998</th>\n",
       "      <td>Redlegs</td>\n",
       "      <td>2012</td>\n",
       "      <td>6.6</td>\n",
       "      <td>A comedic drama set amongst grieving twenty-so...</td>\n",
       "      <td>[Drama]</td>\n",
       "    </tr>\n",
       "    <tr>\n",
       "      <th>30999</th>\n",
       "      <td>Ali &amp; Alia</td>\n",
       "      <td>2019</td>\n",
       "      <td>5.1</td>\n",
       "      <td>Ali and Alia are childhood neighbors that fell...</td>\n",
       "      <td>[Drama,  Romance]</td>\n",
       "    </tr>\n",
       "  </tbody>\n",
       "</table>\n",
       "<p>31000 rows × 5 columns</p>\n",
       "</div>"
      ],
      "text/plain": [
       "                           Movie Name Release Year  Rating  \\\n",
       "0                          You People         2023     5.5   \n",
       "1                             Babylon         2022     7.4   \n",
       "2      Black Panther: Wakanda Forever         2022     6.9   \n",
       "3            Avatar: The Way of Water         2022     7.8   \n",
       "4                            The Menu         2022     7.2   \n",
       "...                               ...          ...     ...   \n",
       "30995                        West End         2013     6.1   \n",
       "30996                  Bach in Brazil         2015     6.1   \n",
       "30997          Ghost from the Machine         2010     5.6   \n",
       "30998                         Redlegs         2012     6.6   \n",
       "30999                      Ali & Alia         2019     5.1   \n",
       "\n",
       "                                             Description  \\\n",
       "0      Follows a new couple and their families, who f...   \n",
       "1      A tale of outsized ambition and outrageous exc...   \n",
       "2      The people of Wakanda fight to protect their h...   \n",
       "3      Jake Sully lives with his newfound family form...   \n",
       "4      A young couple travels to a remote island to e...   \n",
       "...                                                  ...   \n",
       "30995  Vic Trevi is an undercover FBI agent positione...   \n",
       "30996  Inspired by true events, this is a story about...   \n",
       "30997  After his parents are killed in a car accident...   \n",
       "30998  A comedic drama set amongst grieving twenty-so...   \n",
       "30999  Ali and Alia are childhood neighbors that fell...   \n",
       "\n",
       "                                Genre  \n",
       "0                  [Comedy,  Romance]  \n",
       "1          [Comedy,  Drama,  History]  \n",
       "2        [Action,  Adventure,  Drama]  \n",
       "3      [Action,  Adventure,  Fantasy]  \n",
       "4                 [Horror,  Thriller]  \n",
       "...                               ...  \n",
       "30995                 [Crime,  Drama]  \n",
       "30996        [Comedy,  Drama,  Music]  \n",
       "30997               [Horror,  Sci-Fi]  \n",
       "30998                         [Drama]  \n",
       "30999               [Drama,  Romance]  \n",
       "\n",
       "[31000 rows x 5 columns]"
      ]
     },
     "execution_count": 41,
     "metadata": {},
     "output_type": "execute_result"
    }
   ],
   "source": [
    "df"
   ]
  },
  {
   "cell_type": "code",
   "execution_count": 42,
   "metadata": {},
   "outputs": [
    {
     "name": "stdout",
     "output_type": "stream",
     "text": [
      "<class 'pandas.core.frame.DataFrame'>\n",
      "RangeIndex: 31000 entries, 0 to 30999\n",
      "Data columns (total 5 columns):\n",
      " #   Column        Non-Null Count  Dtype  \n",
      "---  ------        --------------  -----  \n",
      " 0   Movie Name    31000 non-null  object \n",
      " 1   Release Year  31000 non-null  object \n",
      " 2   Rating        31000 non-null  float64\n",
      " 3   Description   31000 non-null  object \n",
      " 4   Genre         30950 non-null  object \n",
      "dtypes: float64(1), object(4)\n",
      "memory usage: 1.2+ MB\n"
     ]
    }
   ],
   "source": [
    "df.info()"
   ]
  },
  {
   "cell_type": "code",
   "execution_count": 43,
   "metadata": {},
   "outputs": [
    {
     "name": "stdout",
     "output_type": "stream",
     "text": [
      "<class 'pandas.core.series.Series'>\n"
     ]
    }
   ],
   "source": [
    "print(type(df[\"Genre\"]))"
   ]
  },
  {
   "cell_type": "code",
   "execution_count": 44,
   "metadata": {},
   "outputs": [
    {
     "ename": "TypeError",
     "evalue": "argument of type 'NoneType' is not iterable",
     "output_type": "error",
     "traceback": [
      "\u001b[1;31m---------------------------------------------------------------------------\u001b[0m",
      "\u001b[1;31mTypeError\u001b[0m                                 Traceback (most recent call last)",
      "Cell \u001b[1;32mIn[44], line 1\u001b[0m\n\u001b[1;32m----> 1\u001b[0m comedy_genre \u001b[39m=\u001b[39m df[df[\u001b[39m'\u001b[39;49m\u001b[39mGenre\u001b[39;49m\u001b[39m'\u001b[39;49m]\u001b[39m.\u001b[39;49mapply(\u001b[39mlambda\u001b[39;49;00m x: \u001b[39m'\u001b[39;49m\u001b[39mComedy\u001b[39;49m\u001b[39m'\u001b[39;49m \u001b[39min\u001b[39;49;00m x)]\n\u001b[0;32m      2\u001b[0m comedy_count \u001b[39m=\u001b[39m comedy_genre\u001b[39m.\u001b[39mshape[\u001b[39m0\u001b[39m]\n\u001b[0;32m      3\u001b[0m \u001b[39mprint\u001b[39m(\u001b[39m\"\u001b[39m\u001b[39mNumber of genres with \u001b[39m\u001b[39m'\u001b[39m\u001b[39mComedy\u001b[39m\u001b[39m'\u001b[39m\u001b[39m: \u001b[39m\u001b[39m\"\u001b[39m, comedy_count)\n",
      "File \u001b[1;32mc:\\Users\\akibi\\AppData\\Local\\Programs\\Python\\Python39\\lib\\site-packages\\pandas\\core\\series.py:4357\u001b[0m, in \u001b[0;36mSeries.apply\u001b[1;34m(self, func, convert_dtype, args, **kwargs)\u001b[0m\n\u001b[0;32m   4247\u001b[0m \u001b[39mdef\u001b[39;00m \u001b[39mapply\u001b[39m(\n\u001b[0;32m   4248\u001b[0m     \u001b[39mself\u001b[39m,\n\u001b[0;32m   4249\u001b[0m     func: AggFuncType,\n\u001b[1;32m   (...)\u001b[0m\n\u001b[0;32m   4252\u001b[0m     \u001b[39m*\u001b[39m\u001b[39m*\u001b[39mkwargs,\n\u001b[0;32m   4253\u001b[0m ) \u001b[39m-\u001b[39m\u001b[39m>\u001b[39m FrameOrSeriesUnion:\n\u001b[0;32m   4254\u001b[0m     \u001b[39m\"\"\"\u001b[39;00m\n\u001b[0;32m   4255\u001b[0m \u001b[39m    Invoke function on values of Series.\u001b[39;00m\n\u001b[0;32m   4256\u001b[0m \n\u001b[1;32m   (...)\u001b[0m\n\u001b[0;32m   4355\u001b[0m \u001b[39m    dtype: float64\u001b[39;00m\n\u001b[0;32m   4356\u001b[0m \u001b[39m    \"\"\"\u001b[39;00m\n\u001b[1;32m-> 4357\u001b[0m     \u001b[39mreturn\u001b[39;00m SeriesApply(\u001b[39mself\u001b[39;49m, func, convert_dtype, args, kwargs)\u001b[39m.\u001b[39;49mapply()\n",
      "File \u001b[1;32mc:\\Users\\akibi\\AppData\\Local\\Programs\\Python\\Python39\\lib\\site-packages\\pandas\\core\\apply.py:1043\u001b[0m, in \u001b[0;36mSeriesApply.apply\u001b[1;34m(self)\u001b[0m\n\u001b[0;32m   1039\u001b[0m \u001b[39mif\u001b[39;00m \u001b[39misinstance\u001b[39m(\u001b[39mself\u001b[39m\u001b[39m.\u001b[39mf, \u001b[39mstr\u001b[39m):\n\u001b[0;32m   1040\u001b[0m     \u001b[39m# if we are a string, try to dispatch\u001b[39;00m\n\u001b[0;32m   1041\u001b[0m     \u001b[39mreturn\u001b[39;00m \u001b[39mself\u001b[39m\u001b[39m.\u001b[39mapply_str()\n\u001b[1;32m-> 1043\u001b[0m \u001b[39mreturn\u001b[39;00m \u001b[39mself\u001b[39;49m\u001b[39m.\u001b[39;49mapply_standard()\n",
      "File \u001b[1;32mc:\\Users\\akibi\\AppData\\Local\\Programs\\Python\\Python39\\lib\\site-packages\\pandas\\core\\apply.py:1098\u001b[0m, in \u001b[0;36mSeriesApply.apply_standard\u001b[1;34m(self)\u001b[0m\n\u001b[0;32m   1092\u001b[0m         values \u001b[39m=\u001b[39m obj\u001b[39m.\u001b[39mastype(\u001b[39mobject\u001b[39m)\u001b[39m.\u001b[39m_values\n\u001b[0;32m   1093\u001b[0m         \u001b[39m# error: Argument 2 to \"map_infer\" has incompatible type\u001b[39;00m\n\u001b[0;32m   1094\u001b[0m         \u001b[39m# \"Union[Callable[..., Any], str, List[Union[Callable[..., Any], str]],\u001b[39;00m\n\u001b[0;32m   1095\u001b[0m         \u001b[39m# Dict[Hashable, Union[Union[Callable[..., Any], str],\u001b[39;00m\n\u001b[0;32m   1096\u001b[0m         \u001b[39m# List[Union[Callable[..., Any], str]]]]]\"; expected\u001b[39;00m\n\u001b[0;32m   1097\u001b[0m         \u001b[39m# \"Callable[[Any], Any]\"\u001b[39;00m\n\u001b[1;32m-> 1098\u001b[0m         mapped \u001b[39m=\u001b[39m lib\u001b[39m.\u001b[39;49mmap_infer(\n\u001b[0;32m   1099\u001b[0m             values,\n\u001b[0;32m   1100\u001b[0m             f,  \u001b[39m# type: ignore[arg-type]\u001b[39;49;00m\n\u001b[0;32m   1101\u001b[0m             convert\u001b[39m=\u001b[39;49m\u001b[39mself\u001b[39;49m\u001b[39m.\u001b[39;49mconvert_dtype,\n\u001b[0;32m   1102\u001b[0m         )\n\u001b[0;32m   1104\u001b[0m \u001b[39mif\u001b[39;00m \u001b[39mlen\u001b[39m(mapped) \u001b[39mand\u001b[39;00m \u001b[39misinstance\u001b[39m(mapped[\u001b[39m0\u001b[39m], ABCSeries):\n\u001b[0;32m   1105\u001b[0m     \u001b[39m# GH 25959 use pd.array instead of tolist\u001b[39;00m\n\u001b[0;32m   1106\u001b[0m     \u001b[39m# so extension arrays can be used\u001b[39;00m\n\u001b[0;32m   1107\u001b[0m     \u001b[39mreturn\u001b[39;00m obj\u001b[39m.\u001b[39m_constructor_expanddim(pd_array(mapped), index\u001b[39m=\u001b[39mobj\u001b[39m.\u001b[39mindex)\n",
      "File \u001b[1;32mc:\\Users\\akibi\\AppData\\Local\\Programs\\Python\\Python39\\lib\\site-packages\\pandas\\_libs\\lib.pyx:2859\u001b[0m, in \u001b[0;36mpandas._libs.lib.map_infer\u001b[1;34m()\u001b[0m\n",
      "Cell \u001b[1;32mIn[44], line 1\u001b[0m, in \u001b[0;36m<lambda>\u001b[1;34m(x)\u001b[0m\n\u001b[1;32m----> 1\u001b[0m comedy_genre \u001b[39m=\u001b[39m df[df[\u001b[39m'\u001b[39m\u001b[39mGenre\u001b[39m\u001b[39m'\u001b[39m]\u001b[39m.\u001b[39mapply(\u001b[39mlambda\u001b[39;00m x: \u001b[39m'\u001b[39;49m\u001b[39mComedy\u001b[39;49m\u001b[39m'\u001b[39;49m \u001b[39min\u001b[39;49;00m x)]\n\u001b[0;32m      2\u001b[0m comedy_count \u001b[39m=\u001b[39m comedy_genre\u001b[39m.\u001b[39mshape[\u001b[39m0\u001b[39m]\n\u001b[0;32m      3\u001b[0m \u001b[39mprint\u001b[39m(\u001b[39m\"\u001b[39m\u001b[39mNumber of genres with \u001b[39m\u001b[39m'\u001b[39m\u001b[39mComedy\u001b[39m\u001b[39m'\u001b[39m\u001b[39m: \u001b[39m\u001b[39m\"\u001b[39m, comedy_count)\n",
      "\u001b[1;31mTypeError\u001b[0m: argument of type 'NoneType' is not iterable"
     ]
    }
   ],
   "source": [
    "comedy_genre = df[df['Genre'].apply(lambda x: 'Comedy' in x)]\n",
    "comedy_count = comedy_genre.shape[0]\n",
    "print(\"Number of genres with 'Comedy': \", comedy_count)"
   ]
  },
  {
   "cell_type": "code",
   "execution_count": 20,
   "metadata": {},
   "outputs": [
    {
     "data": {
      "text/plain": [
       "(1341, 5)"
      ]
     },
     "execution_count": 20,
     "metadata": {},
     "output_type": "execute_result"
    }
   ],
   "source": [
    "# movies that has rating > 7\n",
    "rating = df[df['Rating'] > 7]\n",
    "rating.shape"
   ]
  },
  {
   "cell_type": "code",
   "execution_count": 21,
   "metadata": {},
   "outputs": [
    {
     "data": {
      "text/plain": [
       "(5750, 5)"
      ]
     },
     "execution_count": 21,
     "metadata": {},
     "output_type": "execute_result"
    }
   ],
   "source": [
    "df.shape"
   ]
  },
  {
   "cell_type": "code",
   "execution_count": 28,
   "metadata": {},
   "outputs": [
    {
     "name": "stdout",
     "output_type": "stream",
     "text": [
      "Number of unique genres:  36\n",
      "Unique genres:  ['Comedy' ' Romance' ' Drama' ' History' 'Action' ' Adventure' ' Fantasy'\n",
      " 'Horror' ' Thriller' ' Comedy' ' Mystery' ' Sci-Fi' 'Crime' ' Horror'\n",
      " 'Animation' 'Drama' ' Music' ' Crime' 'Biography' ' Sport' ' Family'\n",
      " ' War' 'Adventure' 'Thriller' ' Action' ' Biography' ' Western' 'Mystery'\n",
      " ' Musical' 'Fantasy' 'Sci-Fi' 'Romance' 'Family' 'History' 'Music'\n",
      " 'Musical']\n"
     ]
    }
   ],
   "source": [
    "unique_genres = df['Genre'].explode().unique()\n",
    "print(\"Number of unique genres: \", len(unique_genres))\n",
    "print(\"Unique genres: \", unique_genres)"
   ]
  },
  {
   "cell_type": "code",
   "execution_count": 51,
   "metadata": {},
   "outputs": [],
   "source": [
    "df_exploded = df.explode('Genre')\n",
    "genre_counts = df_exploded['Genre'].value_counts()\n",
    "# print(genre_counts)"
   ]
  },
  {
   "cell_type": "code",
   "execution_count": 52,
   "metadata": {},
   "outputs": [
    {
     "name": "stdout",
     "output_type": "stream",
     "text": [
      "['Sci-Fi', 'Family', 'Musical', 'History', 'Music']\n"
     ]
    }
   ],
   "source": [
    "# remove genres that appear less than 10 times\n",
    "rare_genres = [ cat for cat, count in genre_counts.items() if count < 10]\n",
    "print(rare_genres)"
   ]
  },
  {
   "cell_type": "code",
   "execution_count": 69,
   "metadata": {},
   "outputs": [],
   "source": [
    "df_exploded = df_exploded[~df_exploded['Genre'].isin(rare_genres)]\n",
    "new_df = df_exploded.groupby(['Movie Name', 'Release Year', 'Rating', 'Description']).agg({'Genre': 'unique'})\n",
    "new_df['Genre'] = new_df['Genre'].apply(lambda x: list(x))"
   ]
  },
  {
   "cell_type": "code",
   "execution_count": 70,
   "metadata": {},
   "outputs": [
    {
     "data": {
      "text/plain": [
       "(5747, 1)"
      ]
     },
     "execution_count": 70,
     "metadata": {},
     "output_type": "execute_result"
    }
   ],
   "source": [
    "new_df.shape"
   ]
  },
  {
   "cell_type": "code",
   "execution_count": 71,
   "metadata": {},
   "outputs": [
    {
     "data": {
      "text/html": [
       "<div>\n",
       "<style scoped>\n",
       "    .dataframe tbody tr th:only-of-type {\n",
       "        vertical-align: middle;\n",
       "    }\n",
       "\n",
       "    .dataframe tbody tr th {\n",
       "        vertical-align: top;\n",
       "    }\n",
       "\n",
       "    .dataframe thead th {\n",
       "        text-align: right;\n",
       "    }\n",
       "</style>\n",
       "<table border=\"1\" class=\"dataframe\">\n",
       "  <thead>\n",
       "    <tr style=\"text-align: right;\">\n",
       "      <th></th>\n",
       "      <th></th>\n",
       "      <th></th>\n",
       "      <th></th>\n",
       "      <th>Genre</th>\n",
       "    </tr>\n",
       "    <tr>\n",
       "      <th>Movie Name</th>\n",
       "      <th>Release Year</th>\n",
       "      <th>Rating</th>\n",
       "      <th>Description</th>\n",
       "      <th></th>\n",
       "    </tr>\n",
       "  </thead>\n",
       "  <tbody>\n",
       "    <tr>\n",
       "      <th>'71</th>\n",
       "      <th>2014</th>\n",
       "      <th>7.2</th>\n",
       "      <th>In 1971, a young and disoriented British soldier is accidentally abandoned by his unit following a riot on the deadly streets of Belfast.</th>\n",
       "      <td>[Action,  Crime,  Drama]</td>\n",
       "    </tr>\n",
       "    <tr>\n",
       "      <th>'83</th>\n",
       "      <th>2021</th>\n",
       "      <th>7.5</th>\n",
       "      <th>On June 25, 1983, the Lord's Cricket Ground witnessed 14 men beat the two times World Champions West Indies, putting India back onto the cricket world stage.</th>\n",
       "      <td>[Biography,  Drama,  History]</td>\n",
       "    </tr>\n",
       "    <tr>\n",
       "      <th>10 Cloverfield Lane</th>\n",
       "      <th>2016</th>\n",
       "      <th>7.2</th>\n",
       "      <th>A young woman is held in an underground bunker by a man who insists that a hostile event has left the surface of the Earth uninhabitable.</th>\n",
       "      <td>[Drama,  Horror,  Mystery]</td>\n",
       "    </tr>\n",
       "    <tr>\n",
       "      <th>10 Items or Less</th>\n",
       "      <th>2006</th>\n",
       "      <th>6.5</th>\n",
       "      <th>An actor prepping for an upcoming role meets a quirky grocery clerk, and together they hit the road to show each other their respective worlds.</th>\n",
       "      <td>[Comedy,  Drama]</td>\n",
       "    </tr>\n",
       "    <tr>\n",
       "      <th>10 Years</th>\n",
       "      <th>2011</th>\n",
       "      <th>6.1</th>\n",
       "      <th>The night of their high school reunion, a group of friends realize they still haven't quite grown up in some ways.</th>\n",
       "      <td>[Comedy,  Drama,  Romance]</td>\n",
       "    </tr>\n",
       "    <tr>\n",
       "      <th>...</th>\n",
       "      <th>...</th>\n",
       "      <th>...</th>\n",
       "      <th>...</th>\n",
       "      <td>...</td>\n",
       "    </tr>\n",
       "    <tr>\n",
       "      <th>iMordecai</th>\n",
       "      <th>2022</th>\n",
       "      <th>8.7</th>\n",
       "      <th>A Holocaust survivor, born and raised in a different time, must face the realities of modern world. When confronted with an unfamiliar object, an iPhone, will Mordecai be able to fit into a world that has changed so much around him?</th>\n",
       "      <td>[Comedy,  Drama,  Family]</td>\n",
       "    </tr>\n",
       "    <tr>\n",
       "      <th>tick, tick... BOOM!</th>\n",
       "      <th>2021</th>\n",
       "      <th>7.5</th>\n",
       "      <th>On the cusp of his 30th birthday, a promising young theater composer navigates love, friendship and the pressures of life as an artist in New York City.</th>\n",
       "      <td>[Biography,  Comedy,  Drama]</td>\n",
       "    </tr>\n",
       "    <tr>\n",
       "      <th>xXx</th>\n",
       "      <th>2002</th>\n",
       "      <th>5.8</th>\n",
       "      <th>An extreme sports athlete, Xander Cage, is recruited by the government on a special mission.</th>\n",
       "      <td>[Action,  Adventure,  Thriller]</td>\n",
       "    </tr>\n",
       "    <tr>\n",
       "      <th>xXx: Return of Xander Cage</th>\n",
       "      <th>2017</th>\n",
       "      <th>5.2</th>\n",
       "      <th>Xander Cage is left for dead after an incident, though he secretly returns to action for a new, tough assignment with his handler Augustus Gibbons.</th>\n",
       "      <td>[Action,  Adventure,  Thriller]</td>\n",
       "    </tr>\n",
       "    <tr>\n",
       "      <th>Æon Flux</th>\n",
       "      <th>2005</th>\n",
       "      <th>5.4</th>\n",
       "      <th>Æon Flux is a mysterious assassin working for the Monicans, a group of rebels trying to overthrow the government. When she is sent on a mission to kill the Chairman, a whole new mystery is found.</th>\n",
       "      <td>[Action,  Adventure,  Sci-Fi]</td>\n",
       "    </tr>\n",
       "  </tbody>\n",
       "</table>\n",
       "<p>5747 rows × 1 columns</p>\n",
       "</div>"
      ],
      "text/plain": [
       "                                                                                                                             Genre\n",
       "Movie Name                 Release Year Rating Description                                                                        \n",
       "'71                        2014         7.2    In 1971, a young and disoriented British soldie...         [Action,  Crime,  Drama]\n",
       "'83                        2021         7.5    On June 25, 1983, the Lord's Cricket Ground wit...    [Biography,  Drama,  History]\n",
       "10 Cloverfield Lane        2016         7.2    A young woman is held in an underground bunker ...       [Drama,  Horror,  Mystery]\n",
       "10 Items or Less           2006         6.5    An actor prepping for an upcoming role meets a ...                 [Comedy,  Drama]\n",
       "10 Years                   2011         6.1    The night of their high school reunion, a group...       [Comedy,  Drama,  Romance]\n",
       "...                                                                                                                            ...\n",
       "iMordecai                  2022         8.7    A Holocaust survivor, born and raised in a diff...        [Comedy,  Drama,  Family]\n",
       "tick, tick... BOOM!        2021         7.5    On the cusp of his 30th birthday, a promising y...     [Biography,  Comedy,  Drama]\n",
       "xXx                        2002         5.8    An extreme sports athlete, Xander Cage, is recr...  [Action,  Adventure,  Thriller]\n",
       "xXx: Return of Xander Cage 2017         5.2    Xander Cage is left for dead after an incident,...  [Action,  Adventure,  Thriller]\n",
       "Æon Flux                   2005         5.4    Æon Flux is a mysterious assassin working for t...    [Action,  Adventure,  Sci-Fi]\n",
       "\n",
       "[5747 rows x 1 columns]"
      ]
     },
     "execution_count": 71,
     "metadata": {},
     "output_type": "execute_result"
    }
   ],
   "source": [
    "new_df"
   ]
  },
  {
   "cell_type": "code",
   "execution_count": null,
   "metadata": {},
   "outputs": [],
   "source": []
  },
  {
   "attachments": {},
   "cell_type": "markdown",
   "metadata": {},
   "source": [
    "# Data pre-processing"
   ]
  },
  {
   "attachments": {},
   "cell_type": "markdown",
   "metadata": {},
   "source": [
    "## Tokenization"
   ]
  },
  {
   "cell_type": "code",
   "execution_count": null,
   "metadata": {},
   "outputs": [],
   "source": []
  }
 ],
 "metadata": {
  "kernelspec": {
   "display_name": "Python 3",
   "language": "python",
   "name": "python3"
  },
  "language_info": {
   "codemirror_mode": {
    "name": "ipython",
    "version": 3
   },
   "file_extension": ".py",
   "mimetype": "text/x-python",
   "name": "python",
   "nbconvert_exporter": "python",
   "pygments_lexer": "ipython3",
   "version": "3.9.13"
  },
  "orig_nbformat": 4,
  "vscode": {
   "interpreter": {
    "hash": "cf91a66750ecc7788d35dda500a89acb75a4d5fcf66d36b86b31f96f17e46713"
   }
  }
 },
 "nbformat": 4,
 "nbformat_minor": 2
}
