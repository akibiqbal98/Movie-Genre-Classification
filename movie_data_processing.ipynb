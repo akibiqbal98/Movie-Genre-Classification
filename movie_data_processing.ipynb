{
 "cells": [
  {
   "attachments": {},
   "cell_type": "markdown",
   "metadata": {},
   "source": [
    "# Data cleaning"
   ]
  },
  {
   "cell_type": "code",
   "execution_count": 1,
   "metadata": {},
   "outputs": [],
   "source": [
    "import pandas as pd\n",
    "import numpy as np"
   ]
  },
  {
   "cell_type": "code",
   "execution_count": 2,
   "metadata": {},
   "outputs": [],
   "source": [
    "df = pd.read_json('movie_data.json')\n",
    "df.to_csv(\"movie_data.csv\")"
   ]
  },
  {
   "cell_type": "code",
   "execution_count": 3,
   "metadata": {},
   "outputs": [
    {
     "data": {
      "text/html": [
       "<div>\n",
       "<style scoped>\n",
       "    .dataframe tbody tr th:only-of-type {\n",
       "        vertical-align: middle;\n",
       "    }\n",
       "\n",
       "    .dataframe tbody tr th {\n",
       "        vertical-align: top;\n",
       "    }\n",
       "\n",
       "    .dataframe thead th {\n",
       "        text-align: right;\n",
       "    }\n",
       "</style>\n",
       "<table border=\"1\" class=\"dataframe\">\n",
       "  <thead>\n",
       "    <tr style=\"text-align: right;\">\n",
       "      <th></th>\n",
       "      <th>Movie Name</th>\n",
       "      <th>Release Year</th>\n",
       "      <th>Rating</th>\n",
       "      <th>Description</th>\n",
       "      <th>Genre</th>\n",
       "    </tr>\n",
       "  </thead>\n",
       "  <tbody>\n",
       "    <tr>\n",
       "      <th>0</th>\n",
       "      <td>You People</td>\n",
       "      <td>2023</td>\n",
       "      <td>5.5</td>\n",
       "      <td>Follows a new couple and their families, who f...</td>\n",
       "      <td>[Comedy,  Romance]</td>\n",
       "    </tr>\n",
       "    <tr>\n",
       "      <th>1</th>\n",
       "      <td>Babylon</td>\n",
       "      <td>2022</td>\n",
       "      <td>7.4</td>\n",
       "      <td>A tale of outsized ambition and outrageous exc...</td>\n",
       "      <td>[Comedy,  Drama,  History]</td>\n",
       "    </tr>\n",
       "    <tr>\n",
       "      <th>2</th>\n",
       "      <td>Black Panther: Wakanda Forever</td>\n",
       "      <td>2022</td>\n",
       "      <td>6.9</td>\n",
       "      <td>The people of Wakanda fight to protect their h...</td>\n",
       "      <td>[Action,  Adventure,  Drama]</td>\n",
       "    </tr>\n",
       "    <tr>\n",
       "      <th>3</th>\n",
       "      <td>Avatar: The Way of Water</td>\n",
       "      <td>2022</td>\n",
       "      <td>7.8</td>\n",
       "      <td>Jake Sully lives with his newfound family form...</td>\n",
       "      <td>[Action,  Adventure,  Fantasy]</td>\n",
       "    </tr>\n",
       "    <tr>\n",
       "      <th>4</th>\n",
       "      <td>The Menu</td>\n",
       "      <td>2022</td>\n",
       "      <td>7.2</td>\n",
       "      <td>A young couple travels to a remote island to e...</td>\n",
       "      <td>[Horror,  Thriller]</td>\n",
       "    </tr>\n",
       "    <tr>\n",
       "      <th>...</th>\n",
       "      <td>...</td>\n",
       "      <td>...</td>\n",
       "      <td>...</td>\n",
       "      <td>...</td>\n",
       "      <td>...</td>\n",
       "    </tr>\n",
       "    <tr>\n",
       "      <th>5745</th>\n",
       "      <td>Cannibal</td>\n",
       "      <td>2013</td>\n",
       "      <td>5.9</td>\n",
       "      <td>Carlos is the most prestigious tailor in Grana...</td>\n",
       "      <td>[Adventure,  Drama,  Romance]</td>\n",
       "    </tr>\n",
       "    <tr>\n",
       "      <th>5746</th>\n",
       "      <td>Pathology</td>\n",
       "      <td>2008</td>\n",
       "      <td>5.9</td>\n",
       "      <td>A group of medical students devise a deadly ga...</td>\n",
       "      <td>[Crime,  Thriller]</td>\n",
       "    </tr>\n",
       "    <tr>\n",
       "      <th>5747</th>\n",
       "      <td>I Still See You</td>\n",
       "      <td>2018</td>\n",
       "      <td>5.8</td>\n",
       "      <td>Set ten years after an apocalyptic event that ...</td>\n",
       "      <td>[Fantasy,  Horror,  Sci-Fi]</td>\n",
       "    </tr>\n",
       "    <tr>\n",
       "      <th>5748</th>\n",
       "      <td>First Kill</td>\n",
       "      <td>2017</td>\n",
       "      <td>5.0</td>\n",
       "      <td>A Wall Street broker is forced to evade a poli...</td>\n",
       "      <td>[Action,  Thriller]</td>\n",
       "    </tr>\n",
       "    <tr>\n",
       "      <th>5749</th>\n",
       "      <td>Summer Frost</td>\n",
       "      <td>2022</td>\n",
       "      <td>5.6</td>\n",
       "      <td>It's summer and France is hit by a polar cold....</td>\n",
       "      <td>[Drama]</td>\n",
       "    </tr>\n",
       "  </tbody>\n",
       "</table>\n",
       "<p>5750 rows × 5 columns</p>\n",
       "</div>"
      ],
      "text/plain": [
       "                          Movie Name  Release Year  Rating  \\\n",
       "0                         You People          2023     5.5   \n",
       "1                            Babylon          2022     7.4   \n",
       "2     Black Panther: Wakanda Forever          2022     6.9   \n",
       "3           Avatar: The Way of Water          2022     7.8   \n",
       "4                           The Menu          2022     7.2   \n",
       "...                              ...           ...     ...   \n",
       "5745                        Cannibal          2013     5.9   \n",
       "5746                       Pathology          2008     5.9   \n",
       "5747                 I Still See You          2018     5.8   \n",
       "5748                      First Kill          2017     5.0   \n",
       "5749                    Summer Frost          2022     5.6   \n",
       "\n",
       "                                            Description  \\\n",
       "0     Follows a new couple and their families, who f...   \n",
       "1     A tale of outsized ambition and outrageous exc...   \n",
       "2     The people of Wakanda fight to protect their h...   \n",
       "3     Jake Sully lives with his newfound family form...   \n",
       "4     A young couple travels to a remote island to e...   \n",
       "...                                                 ...   \n",
       "5745  Carlos is the most prestigious tailor in Grana...   \n",
       "5746  A group of medical students devise a deadly ga...   \n",
       "5747  Set ten years after an apocalyptic event that ...   \n",
       "5748  A Wall Street broker is forced to evade a poli...   \n",
       "5749  It's summer and France is hit by a polar cold....   \n",
       "\n",
       "                               Genre  \n",
       "0                 [Comedy,  Romance]  \n",
       "1         [Comedy,  Drama,  History]  \n",
       "2       [Action,  Adventure,  Drama]  \n",
       "3     [Action,  Adventure,  Fantasy]  \n",
       "4                [Horror,  Thriller]  \n",
       "...                              ...  \n",
       "5745   [Adventure,  Drama,  Romance]  \n",
       "5746              [Crime,  Thriller]  \n",
       "5747     [Fantasy,  Horror,  Sci-Fi]  \n",
       "5748             [Action,  Thriller]  \n",
       "5749                         [Drama]  \n",
       "\n",
       "[5750 rows x 5 columns]"
      ]
     },
     "execution_count": 3,
     "metadata": {},
     "output_type": "execute_result"
    }
   ],
   "source": [
    "df"
   ]
  },
  {
   "cell_type": "code",
   "execution_count": 4,
   "metadata": {},
   "outputs": [
    {
     "data": {
      "text/plain": [
       "Movie Name      0\n",
       "Release Year    0\n",
       "Rating          0\n",
       "Description     0\n",
       "Genre           0\n",
       "dtype: int64"
      ]
     },
     "execution_count": 4,
     "metadata": {},
     "output_type": "execute_result"
    }
   ],
   "source": [
    "df.isnull().sum()"
   ]
  },
  {
   "cell_type": "code",
   "execution_count": 24,
   "metadata": {},
   "outputs": [
    {
     "name": "stdout",
     "output_type": "stream",
     "text": [
      "<class 'list'>\n"
     ]
    }
   ],
   "source": [
    "print(type(df[\"Genre\"][0]))"
   ]
  },
  {
   "cell_type": "code",
   "execution_count": 12,
   "metadata": {},
   "outputs": [
    {
     "data": {
      "text/plain": [
       "1342"
      ]
     },
     "execution_count": 12,
     "metadata": {},
     "output_type": "execute_result"
    }
   ],
   "source": [
    "# comedy flims\n",
    "comedy = df[df['Genre'].apply(lambda x: 'Comedy' in x)].shape[0]\n",
    "comedy"
   ]
  },
  {
   "cell_type": "code",
   "execution_count": 20,
   "metadata": {},
   "outputs": [
    {
     "data": {
      "text/plain": [
       "(1341, 5)"
      ]
     },
     "execution_count": 20,
     "metadata": {},
     "output_type": "execute_result"
    }
   ],
   "source": [
    "# movies that has rating > 7\n",
    "rating = df[df['Rating'] > 7]\n",
    "rating.shape"
   ]
  },
  {
   "cell_type": "code",
   "execution_count": 21,
   "metadata": {},
   "outputs": [
    {
     "data": {
      "text/plain": [
       "(5750, 5)"
      ]
     },
     "execution_count": 21,
     "metadata": {},
     "output_type": "execute_result"
    }
   ],
   "source": [
    "df.shape"
   ]
  },
  {
   "cell_type": "code",
   "execution_count": 28,
   "metadata": {},
   "outputs": [
    {
     "name": "stdout",
     "output_type": "stream",
     "text": [
      "Number of unique genres:  36\n",
      "Unique genres:  ['Comedy' ' Romance' ' Drama' ' History' 'Action' ' Adventure' ' Fantasy'\n",
      " 'Horror' ' Thriller' ' Comedy' ' Mystery' ' Sci-Fi' 'Crime' ' Horror'\n",
      " 'Animation' 'Drama' ' Music' ' Crime' 'Biography' ' Sport' ' Family'\n",
      " ' War' 'Adventure' 'Thriller' ' Action' ' Biography' ' Western' 'Mystery'\n",
      " ' Musical' 'Fantasy' 'Sci-Fi' 'Romance' 'Family' 'History' 'Music'\n",
      " 'Musical']\n"
     ]
    }
   ],
   "source": [
    "unique_genres = df['Genre'].explode().unique()\n",
    "print(\"Number of unique genres: \", len(unique_genres))\n",
    "print(\"Unique genres: \", unique_genres)"
   ]
  },
  {
   "cell_type": "code",
   "execution_count": 51,
   "metadata": {},
   "outputs": [],
   "source": [
    "df_exploded = df.explode('Genre')\n",
    "genre_counts = df_exploded['Genre'].value_counts()\n",
    "# print(genre_counts)"
   ]
  },
  {
   "cell_type": "code",
   "execution_count": 52,
   "metadata": {},
   "outputs": [
    {
     "name": "stdout",
     "output_type": "stream",
     "text": [
      "['Sci-Fi', 'Family', 'Musical', 'History', 'Music']\n"
     ]
    }
   ],
   "source": [
    "# remove genres that appear less than 10 times\n",
    "rare_genres = [ cat for cat, count in genre_counts.items() if count < 10]\n",
    "print(rare_genres)"
   ]
  },
  {
   "cell_type": "code",
   "execution_count": 69,
   "metadata": {},
   "outputs": [],
   "source": [
    "df_exploded = df_exploded[~df_exploded['Genre'].isin(rare_genres)]\n",
    "new_df = df_exploded.groupby(['Movie Name', 'Release Year', 'Rating', 'Description']).agg({'Genre': 'unique'})\n",
    "new_df['Genre'] = new_df['Genre'].apply(lambda x: list(x))"
   ]
  },
  {
   "cell_type": "code",
   "execution_count": 70,
   "metadata": {},
   "outputs": [
    {
     "data": {
      "text/plain": [
       "(5747, 1)"
      ]
     },
     "execution_count": 70,
     "metadata": {},
     "output_type": "execute_result"
    }
   ],
   "source": [
    "new_df.shape"
   ]
  },
  {
   "cell_type": "code",
   "execution_count": 71,
   "metadata": {},
   "outputs": [
    {
     "data": {
      "text/html": [
       "<div>\n",
       "<style scoped>\n",
       "    .dataframe tbody tr th:only-of-type {\n",
       "        vertical-align: middle;\n",
       "    }\n",
       "\n",
       "    .dataframe tbody tr th {\n",
       "        vertical-align: top;\n",
       "    }\n",
       "\n",
       "    .dataframe thead th {\n",
       "        text-align: right;\n",
       "    }\n",
       "</style>\n",
       "<table border=\"1\" class=\"dataframe\">\n",
       "  <thead>\n",
       "    <tr style=\"text-align: right;\">\n",
       "      <th></th>\n",
       "      <th></th>\n",
       "      <th></th>\n",
       "      <th></th>\n",
       "      <th>Genre</th>\n",
       "    </tr>\n",
       "    <tr>\n",
       "      <th>Movie Name</th>\n",
       "      <th>Release Year</th>\n",
       "      <th>Rating</th>\n",
       "      <th>Description</th>\n",
       "      <th></th>\n",
       "    </tr>\n",
       "  </thead>\n",
       "  <tbody>\n",
       "    <tr>\n",
       "      <th>'71</th>\n",
       "      <th>2014</th>\n",
       "      <th>7.2</th>\n",
       "      <th>In 1971, a young and disoriented British soldier is accidentally abandoned by his unit following a riot on the deadly streets of Belfast.</th>\n",
       "      <td>[Action,  Crime,  Drama]</td>\n",
       "    </tr>\n",
       "    <tr>\n",
       "      <th>'83</th>\n",
       "      <th>2021</th>\n",
       "      <th>7.5</th>\n",
       "      <th>On June 25, 1983, the Lord's Cricket Ground witnessed 14 men beat the two times World Champions West Indies, putting India back onto the cricket world stage.</th>\n",
       "      <td>[Biography,  Drama,  History]</td>\n",
       "    </tr>\n",
       "    <tr>\n",
       "      <th>10 Cloverfield Lane</th>\n",
       "      <th>2016</th>\n",
       "      <th>7.2</th>\n",
       "      <th>A young woman is held in an underground bunker by a man who insists that a hostile event has left the surface of the Earth uninhabitable.</th>\n",
       "      <td>[Drama,  Horror,  Mystery]</td>\n",
       "    </tr>\n",
       "    <tr>\n",
       "      <th>10 Items or Less</th>\n",
       "      <th>2006</th>\n",
       "      <th>6.5</th>\n",
       "      <th>An actor prepping for an upcoming role meets a quirky grocery clerk, and together they hit the road to show each other their respective worlds.</th>\n",
       "      <td>[Comedy,  Drama]</td>\n",
       "    </tr>\n",
       "    <tr>\n",
       "      <th>10 Years</th>\n",
       "      <th>2011</th>\n",
       "      <th>6.1</th>\n",
       "      <th>The night of their high school reunion, a group of friends realize they still haven't quite grown up in some ways.</th>\n",
       "      <td>[Comedy,  Drama,  Romance]</td>\n",
       "    </tr>\n",
       "    <tr>\n",
       "      <th>...</th>\n",
       "      <th>...</th>\n",
       "      <th>...</th>\n",
       "      <th>...</th>\n",
       "      <td>...</td>\n",
       "    </tr>\n",
       "    <tr>\n",
       "      <th>iMordecai</th>\n",
       "      <th>2022</th>\n",
       "      <th>8.7</th>\n",
       "      <th>A Holocaust survivor, born and raised in a different time, must face the realities of modern world. When confronted with an unfamiliar object, an iPhone, will Mordecai be able to fit into a world that has changed so much around him?</th>\n",
       "      <td>[Comedy,  Drama,  Family]</td>\n",
       "    </tr>\n",
       "    <tr>\n",
       "      <th>tick, tick... BOOM!</th>\n",
       "      <th>2021</th>\n",
       "      <th>7.5</th>\n",
       "      <th>On the cusp of his 30th birthday, a promising young theater composer navigates love, friendship and the pressures of life as an artist in New York City.</th>\n",
       "      <td>[Biography,  Comedy,  Drama]</td>\n",
       "    </tr>\n",
       "    <tr>\n",
       "      <th>xXx</th>\n",
       "      <th>2002</th>\n",
       "      <th>5.8</th>\n",
       "      <th>An extreme sports athlete, Xander Cage, is recruited by the government on a special mission.</th>\n",
       "      <td>[Action,  Adventure,  Thriller]</td>\n",
       "    </tr>\n",
       "    <tr>\n",
       "      <th>xXx: Return of Xander Cage</th>\n",
       "      <th>2017</th>\n",
       "      <th>5.2</th>\n",
       "      <th>Xander Cage is left for dead after an incident, though he secretly returns to action for a new, tough assignment with his handler Augustus Gibbons.</th>\n",
       "      <td>[Action,  Adventure,  Thriller]</td>\n",
       "    </tr>\n",
       "    <tr>\n",
       "      <th>Æon Flux</th>\n",
       "      <th>2005</th>\n",
       "      <th>5.4</th>\n",
       "      <th>Æon Flux is a mysterious assassin working for the Monicans, a group of rebels trying to overthrow the government. When she is sent on a mission to kill the Chairman, a whole new mystery is found.</th>\n",
       "      <td>[Action,  Adventure,  Sci-Fi]</td>\n",
       "    </tr>\n",
       "  </tbody>\n",
       "</table>\n",
       "<p>5747 rows × 1 columns</p>\n",
       "</div>"
      ],
      "text/plain": [
       "                                                                                                                             Genre\n",
       "Movie Name                 Release Year Rating Description                                                                        \n",
       "'71                        2014         7.2    In 1971, a young and disoriented British soldie...         [Action,  Crime,  Drama]\n",
       "'83                        2021         7.5    On June 25, 1983, the Lord's Cricket Ground wit...    [Biography,  Drama,  History]\n",
       "10 Cloverfield Lane        2016         7.2    A young woman is held in an underground bunker ...       [Drama,  Horror,  Mystery]\n",
       "10 Items or Less           2006         6.5    An actor prepping for an upcoming role meets a ...                 [Comedy,  Drama]\n",
       "10 Years                   2011         6.1    The night of their high school reunion, a group...       [Comedy,  Drama,  Romance]\n",
       "...                                                                                                                            ...\n",
       "iMordecai                  2022         8.7    A Holocaust survivor, born and raised in a diff...        [Comedy,  Drama,  Family]\n",
       "tick, tick... BOOM!        2021         7.5    On the cusp of his 30th birthday, a promising y...     [Biography,  Comedy,  Drama]\n",
       "xXx                        2002         5.8    An extreme sports athlete, Xander Cage, is recr...  [Action,  Adventure,  Thriller]\n",
       "xXx: Return of Xander Cage 2017         5.2    Xander Cage is left for dead after an incident,...  [Action,  Adventure,  Thriller]\n",
       "Æon Flux                   2005         5.4    Æon Flux is a mysterious assassin working for t...    [Action,  Adventure,  Sci-Fi]\n",
       "\n",
       "[5747 rows x 1 columns]"
      ]
     },
     "execution_count": 71,
     "metadata": {},
     "output_type": "execute_result"
    }
   ],
   "source": [
    "new_df"
   ]
  },
  {
   "cell_type": "code",
   "execution_count": null,
   "metadata": {},
   "outputs": [],
   "source": []
  },
  {
   "attachments": {},
   "cell_type": "markdown",
   "metadata": {},
   "source": [
    "# Data pre-processing"
   ]
  },
  {
   "attachments": {},
   "cell_type": "markdown",
   "metadata": {},
   "source": [
    "## Tokenization"
   ]
  },
  {
   "cell_type": "code",
   "execution_count": null,
   "metadata": {},
   "outputs": [],
   "source": []
  }
 ],
 "metadata": {
  "kernelspec": {
   "display_name": "Python 3",
   "language": "python",
   "name": "python3"
  },
  "language_info": {
   "codemirror_mode": {
    "name": "ipython",
    "version": 3
   },
   "file_extension": ".py",
   "mimetype": "text/x-python",
   "name": "python",
   "nbconvert_exporter": "python",
   "pygments_lexer": "ipython3",
   "version": "3.9.13"
  },
  "orig_nbformat": 4,
  "vscode": {
   "interpreter": {
    "hash": "cf91a66750ecc7788d35dda500a89acb75a4d5fcf66d36b86b31f96f17e46713"
   }
  }
 },
 "nbformat": 4,
 "nbformat_minor": 2
}
