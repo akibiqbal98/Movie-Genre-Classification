{
 "cells": [
  {
   "attachments": {},
   "cell_type": "markdown",
   "metadata": {},
   "source": [
    "# Data cleaning"
   ]
  },
  {
   "cell_type": "code",
   "execution_count": 1,
   "metadata": {},
   "outputs": [],
   "source": [
    "import pandas as pd\n",
    "import numpy as np"
   ]
  },
  {
   "cell_type": "code",
   "execution_count": 2,
   "metadata": {},
   "outputs": [],
   "source": [
    "df1 = pd.read_json('all_movie_data.json')\n",
    "df2 = pd.read_json('new_all_movie_data.json')\n",
    "\n",
    "df2 = pd.concat([df1, df2], axis=0)\n",
    "\n",
    "df = pd.concat([df1, df2], axis=0)\n",
    "df = df.reset_index(drop=True)\n"
   ]
  },
  {
   "cell_type": "code",
   "execution_count": 3,
   "metadata": {},
   "outputs": [
    {
     "data": {
      "text/plain": [
       "(8750, 5)"
      ]
     },
     "execution_count": 3,
     "metadata": {},
     "output_type": "execute_result"
    }
   ],
   "source": [
    "df1.shape"
   ]
  },
  {
   "cell_type": "code",
   "execution_count": 4,
   "metadata": {},
   "outputs": [
    {
     "data": {
      "text/plain": [
       "(22250, 5)"
      ]
     },
     "execution_count": 4,
     "metadata": {},
     "output_type": "execute_result"
    }
   ],
   "source": [
    "df2.shape"
   ]
  },
  {
   "cell_type": "code",
   "execution_count": 5,
   "metadata": {},
   "outputs": [
    {
     "data": {
      "text/plain": [
       "(31000, 5)"
      ]
     },
     "execution_count": 5,
     "metadata": {},
     "output_type": "execute_result"
    }
   ],
   "source": [
    "df.shape"
   ]
  },
  {
   "cell_type": "code",
   "execution_count": 6,
   "metadata": {},
   "outputs": [],
   "source": [
    "df.to_csv('final_movie_details.csv')"
   ]
  },
  {
   "cell_type": "code",
   "execution_count": 7,
   "metadata": {},
   "outputs": [
    {
     "data": {
      "text/html": [
       "<div>\n",
       "<style scoped>\n",
       "    .dataframe tbody tr th:only-of-type {\n",
       "        vertical-align: middle;\n",
       "    }\n",
       "\n",
       "    .dataframe tbody tr th {\n",
       "        vertical-align: top;\n",
       "    }\n",
       "\n",
       "    .dataframe thead th {\n",
       "        text-align: right;\n",
       "    }\n",
       "</style>\n",
       "<table border=\"1\" class=\"dataframe\">\n",
       "  <thead>\n",
       "    <tr style=\"text-align: right;\">\n",
       "      <th></th>\n",
       "      <th>Movie Name</th>\n",
       "      <th>Release Year</th>\n",
       "      <th>Rating</th>\n",
       "      <th>Description</th>\n",
       "      <th>Genre</th>\n",
       "    </tr>\n",
       "  </thead>\n",
       "  <tbody>\n",
       "    <tr>\n",
       "      <th>0</th>\n",
       "      <td>You People</td>\n",
       "      <td>2023.0</td>\n",
       "      <td>5.5</td>\n",
       "      <td>Follows a new couple and their families, who f...</td>\n",
       "      <td>[Comedy,  Romance]</td>\n",
       "    </tr>\n",
       "    <tr>\n",
       "      <th>1</th>\n",
       "      <td>Babylon</td>\n",
       "      <td>2022.0</td>\n",
       "      <td>7.4</td>\n",
       "      <td>A tale of outsized ambition and outrageous exc...</td>\n",
       "      <td>[Comedy,  Drama,  History]</td>\n",
       "    </tr>\n",
       "    <tr>\n",
       "      <th>2</th>\n",
       "      <td>Black Panther: Wakanda Forever</td>\n",
       "      <td>2022.0</td>\n",
       "      <td>6.9</td>\n",
       "      <td>The people of Wakanda fight to protect their h...</td>\n",
       "      <td>[Action,  Adventure,  Drama]</td>\n",
       "    </tr>\n",
       "    <tr>\n",
       "      <th>3</th>\n",
       "      <td>Avatar: The Way of Water</td>\n",
       "      <td>2022.0</td>\n",
       "      <td>7.8</td>\n",
       "      <td>Jake Sully lives with his newfound family form...</td>\n",
       "      <td>[Action,  Adventure,  Fantasy]</td>\n",
       "    </tr>\n",
       "    <tr>\n",
       "      <th>4</th>\n",
       "      <td>The Menu</td>\n",
       "      <td>2022.0</td>\n",
       "      <td>7.2</td>\n",
       "      <td>A young couple travels to a remote island to e...</td>\n",
       "      <td>[Horror,  Thriller]</td>\n",
       "    </tr>\n",
       "    <tr>\n",
       "      <th>...</th>\n",
       "      <td>...</td>\n",
       "      <td>...</td>\n",
       "      <td>...</td>\n",
       "      <td>...</td>\n",
       "      <td>...</td>\n",
       "    </tr>\n",
       "    <tr>\n",
       "      <th>30995</th>\n",
       "      <td>West End</td>\n",
       "      <td>2013.0</td>\n",
       "      <td>6.1</td>\n",
       "      <td>Vic Trevi is an undercover FBI agent positione...</td>\n",
       "      <td>[Crime,  Drama]</td>\n",
       "    </tr>\n",
       "    <tr>\n",
       "      <th>30996</th>\n",
       "      <td>Bach in Brazil</td>\n",
       "      <td>2015.0</td>\n",
       "      <td>6.1</td>\n",
       "      <td>Inspired by true events, this is a story about...</td>\n",
       "      <td>[Comedy,  Drama,  Music]</td>\n",
       "    </tr>\n",
       "    <tr>\n",
       "      <th>30997</th>\n",
       "      <td>Ghost from the Machine</td>\n",
       "      <td>2010.0</td>\n",
       "      <td>5.6</td>\n",
       "      <td>After his parents are killed in a car accident...</td>\n",
       "      <td>[Horror,  Sci-Fi]</td>\n",
       "    </tr>\n",
       "    <tr>\n",
       "      <th>30998</th>\n",
       "      <td>Redlegs</td>\n",
       "      <td>2012.0</td>\n",
       "      <td>6.6</td>\n",
       "      <td>A comedic drama set amongst grieving twenty-so...</td>\n",
       "      <td>[Drama]</td>\n",
       "    </tr>\n",
       "    <tr>\n",
       "      <th>30999</th>\n",
       "      <td>Ali &amp; Alia</td>\n",
       "      <td>2019.0</td>\n",
       "      <td>5.1</td>\n",
       "      <td>Ali and Alia are childhood neighbors that fell...</td>\n",
       "      <td>[Drama,  Romance]</td>\n",
       "    </tr>\n",
       "  </tbody>\n",
       "</table>\n",
       "<p>31000 rows × 5 columns</p>\n",
       "</div>"
      ],
      "text/plain": [
       "                           Movie Name  Release Year  Rating  \\\n",
       "0                          You People        2023.0     5.5   \n",
       "1                             Babylon        2022.0     7.4   \n",
       "2      Black Panther: Wakanda Forever        2022.0     6.9   \n",
       "3            Avatar: The Way of Water        2022.0     7.8   \n",
       "4                            The Menu        2022.0     7.2   \n",
       "...                               ...           ...     ...   \n",
       "30995                        West End        2013.0     6.1   \n",
       "30996                  Bach in Brazil        2015.0     6.1   \n",
       "30997          Ghost from the Machine        2010.0     5.6   \n",
       "30998                         Redlegs        2012.0     6.6   \n",
       "30999                      Ali & Alia        2019.0     5.1   \n",
       "\n",
       "                                             Description  \\\n",
       "0      Follows a new couple and their families, who f...   \n",
       "1      A tale of outsized ambition and outrageous exc...   \n",
       "2      The people of Wakanda fight to protect their h...   \n",
       "3      Jake Sully lives with his newfound family form...   \n",
       "4      A young couple travels to a remote island to e...   \n",
       "...                                                  ...   \n",
       "30995  Vic Trevi is an undercover FBI agent positione...   \n",
       "30996  Inspired by true events, this is a story about...   \n",
       "30997  After his parents are killed in a car accident...   \n",
       "30998  A comedic drama set amongst grieving twenty-so...   \n",
       "30999  Ali and Alia are childhood neighbors that fell...   \n",
       "\n",
       "                                Genre  \n",
       "0                  [Comedy,  Romance]  \n",
       "1          [Comedy,  Drama,  History]  \n",
       "2        [Action,  Adventure,  Drama]  \n",
       "3      [Action,  Adventure,  Fantasy]  \n",
       "4                 [Horror,  Thriller]  \n",
       "...                               ...  \n",
       "30995                 [Crime,  Drama]  \n",
       "30996        [Comedy,  Drama,  Music]  \n",
       "30997               [Horror,  Sci-Fi]  \n",
       "30998                         [Drama]  \n",
       "30999               [Drama,  Romance]  \n",
       "\n",
       "[31000 rows x 5 columns]"
      ]
     },
     "execution_count": 7,
     "metadata": {},
     "output_type": "execute_result"
    }
   ],
   "source": [
    "df"
   ]
  },
  {
   "cell_type": "code",
   "execution_count": 8,
   "metadata": {},
   "outputs": [
    {
     "name": "stdout",
     "output_type": "stream",
     "text": [
      "<class 'pandas.core.frame.DataFrame'>\n",
      "RangeIndex: 31000 entries, 0 to 30999\n",
      "Data columns (total 5 columns):\n",
      " #   Column        Non-Null Count  Dtype  \n",
      "---  ------        --------------  -----  \n",
      " 0   Movie Name    31000 non-null  object \n",
      " 1   Release Year  30995 non-null  float64\n",
      " 2   Rating        31000 non-null  float64\n",
      " 3   Description   31000 non-null  object \n",
      " 4   Genre         30950 non-null  object \n",
      "dtypes: float64(2), object(3)\n",
      "memory usage: 1.2+ MB\n"
     ]
    }
   ],
   "source": [
    "df.info()"
   ]
  },
  {
   "cell_type": "code",
   "execution_count": 9,
   "metadata": {},
   "outputs": [],
   "source": [
    "# df['Release Year'] = df['Release Year'].astype(int) # didn't work\n",
    "\n",
    "# df['Release Year'] = pd.to_numeric(df['Release Year'], downcast='integer', errors='coerce')\n",
    "# df['Release Year'] = df['Release Year'].astype(int)\n",
    "\n",
    "df['Release Year'] = df['Release Year'].astype(str).str[:4]"
   ]
  },
  {
   "cell_type": "code",
   "execution_count": 10,
   "metadata": {},
   "outputs": [
    {
     "data": {
      "text/html": [
       "<div>\n",
       "<style scoped>\n",
       "    .dataframe tbody tr th:only-of-type {\n",
       "        vertical-align: middle;\n",
       "    }\n",
       "\n",
       "    .dataframe tbody tr th {\n",
       "        vertical-align: top;\n",
       "    }\n",
       "\n",
       "    .dataframe thead th {\n",
       "        text-align: right;\n",
       "    }\n",
       "</style>\n",
       "<table border=\"1\" class=\"dataframe\">\n",
       "  <thead>\n",
       "    <tr style=\"text-align: right;\">\n",
       "      <th></th>\n",
       "      <th>Movie Name</th>\n",
       "      <th>Release Year</th>\n",
       "      <th>Rating</th>\n",
       "      <th>Description</th>\n",
       "      <th>Genre</th>\n",
       "    </tr>\n",
       "  </thead>\n",
       "  <tbody>\n",
       "    <tr>\n",
       "      <th>0</th>\n",
       "      <td>You People</td>\n",
       "      <td>2023</td>\n",
       "      <td>5.5</td>\n",
       "      <td>Follows a new couple and their families, who f...</td>\n",
       "      <td>[Comedy,  Romance]</td>\n",
       "    </tr>\n",
       "    <tr>\n",
       "      <th>1</th>\n",
       "      <td>Babylon</td>\n",
       "      <td>2022</td>\n",
       "      <td>7.4</td>\n",
       "      <td>A tale of outsized ambition and outrageous exc...</td>\n",
       "      <td>[Comedy,  Drama,  History]</td>\n",
       "    </tr>\n",
       "    <tr>\n",
       "      <th>2</th>\n",
       "      <td>Black Panther: Wakanda Forever</td>\n",
       "      <td>2022</td>\n",
       "      <td>6.9</td>\n",
       "      <td>The people of Wakanda fight to protect their h...</td>\n",
       "      <td>[Action,  Adventure,  Drama]</td>\n",
       "    </tr>\n",
       "    <tr>\n",
       "      <th>3</th>\n",
       "      <td>Avatar: The Way of Water</td>\n",
       "      <td>2022</td>\n",
       "      <td>7.8</td>\n",
       "      <td>Jake Sully lives with his newfound family form...</td>\n",
       "      <td>[Action,  Adventure,  Fantasy]</td>\n",
       "    </tr>\n",
       "    <tr>\n",
       "      <th>4</th>\n",
       "      <td>The Menu</td>\n",
       "      <td>2022</td>\n",
       "      <td>7.2</td>\n",
       "      <td>A young couple travels to a remote island to e...</td>\n",
       "      <td>[Horror,  Thriller]</td>\n",
       "    </tr>\n",
       "    <tr>\n",
       "      <th>...</th>\n",
       "      <td>...</td>\n",
       "      <td>...</td>\n",
       "      <td>...</td>\n",
       "      <td>...</td>\n",
       "      <td>...</td>\n",
       "    </tr>\n",
       "    <tr>\n",
       "      <th>30995</th>\n",
       "      <td>West End</td>\n",
       "      <td>2013</td>\n",
       "      <td>6.1</td>\n",
       "      <td>Vic Trevi is an undercover FBI agent positione...</td>\n",
       "      <td>[Crime,  Drama]</td>\n",
       "    </tr>\n",
       "    <tr>\n",
       "      <th>30996</th>\n",
       "      <td>Bach in Brazil</td>\n",
       "      <td>2015</td>\n",
       "      <td>6.1</td>\n",
       "      <td>Inspired by true events, this is a story about...</td>\n",
       "      <td>[Comedy,  Drama,  Music]</td>\n",
       "    </tr>\n",
       "    <tr>\n",
       "      <th>30997</th>\n",
       "      <td>Ghost from the Machine</td>\n",
       "      <td>2010</td>\n",
       "      <td>5.6</td>\n",
       "      <td>After his parents are killed in a car accident...</td>\n",
       "      <td>[Horror,  Sci-Fi]</td>\n",
       "    </tr>\n",
       "    <tr>\n",
       "      <th>30998</th>\n",
       "      <td>Redlegs</td>\n",
       "      <td>2012</td>\n",
       "      <td>6.6</td>\n",
       "      <td>A comedic drama set amongst grieving twenty-so...</td>\n",
       "      <td>[Drama]</td>\n",
       "    </tr>\n",
       "    <tr>\n",
       "      <th>30999</th>\n",
       "      <td>Ali &amp; Alia</td>\n",
       "      <td>2019</td>\n",
       "      <td>5.1</td>\n",
       "      <td>Ali and Alia are childhood neighbors that fell...</td>\n",
       "      <td>[Drama,  Romance]</td>\n",
       "    </tr>\n",
       "  </tbody>\n",
       "</table>\n",
       "<p>31000 rows × 5 columns</p>\n",
       "</div>"
      ],
      "text/plain": [
       "                           Movie Name Release Year  Rating  \\\n",
       "0                          You People         2023     5.5   \n",
       "1                             Babylon         2022     7.4   \n",
       "2      Black Panther: Wakanda Forever         2022     6.9   \n",
       "3            Avatar: The Way of Water         2022     7.8   \n",
       "4                            The Menu         2022     7.2   \n",
       "...                               ...          ...     ...   \n",
       "30995                        West End         2013     6.1   \n",
       "30996                  Bach in Brazil         2015     6.1   \n",
       "30997          Ghost from the Machine         2010     5.6   \n",
       "30998                         Redlegs         2012     6.6   \n",
       "30999                      Ali & Alia         2019     5.1   \n",
       "\n",
       "                                             Description  \\\n",
       "0      Follows a new couple and their families, who f...   \n",
       "1      A tale of outsized ambition and outrageous exc...   \n",
       "2      The people of Wakanda fight to protect their h...   \n",
       "3      Jake Sully lives with his newfound family form...   \n",
       "4      A young couple travels to a remote island to e...   \n",
       "...                                                  ...   \n",
       "30995  Vic Trevi is an undercover FBI agent positione...   \n",
       "30996  Inspired by true events, this is a story about...   \n",
       "30997  After his parents are killed in a car accident...   \n",
       "30998  A comedic drama set amongst grieving twenty-so...   \n",
       "30999  Ali and Alia are childhood neighbors that fell...   \n",
       "\n",
       "                                Genre  \n",
       "0                  [Comedy,  Romance]  \n",
       "1          [Comedy,  Drama,  History]  \n",
       "2        [Action,  Adventure,  Drama]  \n",
       "3      [Action,  Adventure,  Fantasy]  \n",
       "4                 [Horror,  Thriller]  \n",
       "...                               ...  \n",
       "30995                 [Crime,  Drama]  \n",
       "30996        [Comedy,  Drama,  Music]  \n",
       "30997               [Horror,  Sci-Fi]  \n",
       "30998                         [Drama]  \n",
       "30999               [Drama,  Romance]  \n",
       "\n",
       "[31000 rows x 5 columns]"
      ]
     },
     "execution_count": 10,
     "metadata": {},
     "output_type": "execute_result"
    }
   ],
   "source": [
    "df"
   ]
  },
  {
   "cell_type": "code",
   "execution_count": 11,
   "metadata": {},
   "outputs": [
    {
     "name": "stdout",
     "output_type": "stream",
     "text": [
      "<class 'pandas.core.frame.DataFrame'>\n",
      "RangeIndex: 31000 entries, 0 to 30999\n",
      "Data columns (total 5 columns):\n",
      " #   Column        Non-Null Count  Dtype  \n",
      "---  ------        --------------  -----  \n",
      " 0   Movie Name    31000 non-null  object \n",
      " 1   Release Year  31000 non-null  object \n",
      " 2   Rating        31000 non-null  float64\n",
      " 3   Description   31000 non-null  object \n",
      " 4   Genre         30950 non-null  object \n",
      "dtypes: float64(1), object(4)\n",
      "memory usage: 1.2+ MB\n"
     ]
    }
   ],
   "source": [
    "df.info()"
   ]
  },
  {
   "cell_type": "code",
   "execution_count": 12,
   "metadata": {},
   "outputs": [
    {
     "name": "stdout",
     "output_type": "stream",
     "text": [
      "<class 'pandas.core.series.Series'>\n"
     ]
    }
   ],
   "source": [
    "print(type(df[\"Genre\"]))"
   ]
  },
  {
   "cell_type": "code",
   "execution_count": 13,
   "metadata": {},
   "outputs": [
    {
     "name": "stdout",
     "output_type": "stream",
     "text": [
      "The number of Genre is Comedy: 10310\n"
     ]
    }
   ],
   "source": [
    "genre: df['Genre'] = df['Genre'].astype(str)\n",
    "num_comedy = sum(genre.str.contains('Comedy'))\n",
    "print(f'The number of Genre is Comedy: {num_comedy}')\n"
   ]
  },
  {
   "cell_type": "code",
   "execution_count": 14,
   "metadata": {},
   "outputs": [
    {
     "name": "stdout",
     "output_type": "stream",
     "text": [
      "The number of Genre is Thriller: 4966\n"
     ]
    }
   ],
   "source": [
    "genre: df['Genre'] = df['Genre'].astype(str)\n",
    "num_comedy = sum(genre.str.contains('Thriller'))\n",
    "print(f'The number of Genre is Thriller: {num_comedy}')\n"
   ]
  },
  {
   "cell_type": "code",
   "execution_count": 15,
   "metadata": {},
   "outputs": [
    {
     "data": {
      "text/plain": [
       "(6186, 5)"
      ]
     },
     "execution_count": 15,
     "metadata": {},
     "output_type": "execute_result"
    }
   ],
   "source": [
    "# movies that has rating > 7\n",
    "rating = df[df['Rating'] > 7]\n",
    "rating.shape"
   ]
  },
  {
   "cell_type": "code",
   "execution_count": 16,
   "metadata": {},
   "outputs": [
    {
     "data": {
      "text/plain": [
       "(31000, 5)"
      ]
     },
     "execution_count": 16,
     "metadata": {},
     "output_type": "execute_result"
    }
   ],
   "source": [
    "df.shape"
   ]
  },
  {
   "cell_type": "code",
   "execution_count": 17,
   "metadata": {},
   "outputs": [
    {
     "name": "stdout",
     "output_type": "stream",
     "text": [
      "Number of unique genres:  43\n",
      "Unique genres:  ['Comedy' ' Romance' ' Drama' ' History' 'Action' ' Adventure' ' Fantasy'\n",
      " 'Horror' ' Thriller' ' Comedy' ' Mystery' ' Sci-Fi' 'Crime' ' Horror'\n",
      " 'Animation' 'Drama' ' Music' ' Crime' 'Biography' ' Sport' ' Family'\n",
      " ' War' 'Adventure' 'Thriller' ' Action' ' Biography' ' Western' 'Mystery'\n",
      " ' Musical' 'Fantasy' 'Sci-Fi' 'Romance' 'Family' 'History' 'Music'\n",
      " 'Musical' None 'Sport' 'Western' 'Game-Show' 'War' 'Reality-TV'\n",
      " ' Animation']\n"
     ]
    }
   ],
   "source": [
    "unique_genres = df['Genre'].explode().unique()\n",
    "print(\"Number of unique genres: \", len(unique_genres))\n",
    "print(\"Unique genres: \", unique_genres)"
   ]
  },
  {
   "cell_type": "code",
   "execution_count": 19,
   "metadata": {},
   "outputs": [
    {
     "name": "stdout",
     "output_type": "stream",
     "text": [
      "Drama         9636\n",
      " Drama        9395\n",
      "Comedy        8054\n",
      " Romance      4958\n",
      " Thriller     4393\n",
      "Action        4348\n",
      " Mystery      2311\n",
      " Comedy       2256\n",
      " Crime        2227\n",
      " Adventure    2118\n",
      "Crime         1943\n",
      " Horror       1931\n",
      "Biography     1523\n",
      "Horror        1455\n",
      " Sci-Fi       1337\n",
      " Fantasy      1330\n",
      " Family       1317\n",
      "Animation     1297\n",
      "Adventure     1131\n",
      " History       918\n",
      " Music         796\n",
      " Sport         591\n",
      "Thriller       573\n",
      " War           452\n",
      " Action        352\n",
      " Musical       320\n",
      " Biography     223\n",
      "Romance        204\n",
      " Western       183\n",
      "Family         164\n",
      "Fantasy        163\n",
      "Mystery        148\n",
      "Sci-Fi          97\n",
      "Musical         62\n",
      "Music           58\n",
      "History         30\n",
      "Western         29\n",
      "Sport           24\n",
      "War              8\n",
      " Animation       3\n",
      "Reality-TV       2\n",
      "Game-Show        1\n",
      "Name: Genre, dtype: int64\n"
     ]
    }
   ],
   "source": [
    "df_exploded = df.explode('Genre')\n",
    "genre_counts = df_exploded['Genre'].value_counts()\n",
    "print(genre_counts)"
   ]
  },
  {
   "cell_type": "code",
   "execution_count": 29,
   "metadata": {},
   "outputs": [
    {
     "name": "stdout",
     "output_type": "stream",
     "text": [
      "['War', ' Animation', 'Reality-TV', 'Game-Show']\n"
     ]
    }
   ],
   "source": [
    "# remove genres that appear less than 10 times\n",
    "rare_genres = [ cat for cat, count in genre_counts.items() if count < 20]\n",
    "print(rare_genres)"
   ]
  },
  {
   "cell_type": "code",
   "execution_count": 30,
   "metadata": {},
   "outputs": [
    {
     "name": "stdout",
     "output_type": "stream",
     "text": [
      "68397\n"
     ]
    }
   ],
   "source": [
    "df_exploded = df_exploded[~df_exploded['Genre'].isin(rare_genres)]\n",
    "print(len(df_exploded))\n"
   ]
  },
  {
   "cell_type": "code",
   "execution_count": 31,
   "metadata": {},
   "outputs": [],
   "source": [
    "new_df = df_exploded.groupby(['Movie Name', 'Release Year', 'Rating', 'Description']).agg({'Genre': 'unique'})\n",
    "new_df['Genre'] = new_df['Genre'].apply(lambda x: list(x))"
   ]
  },
  {
   "cell_type": "code",
   "execution_count": 32,
   "metadata": {},
   "outputs": [
    {
     "data": {
      "text/plain": [
       "(22241, 1)"
      ]
     },
     "execution_count": 32,
     "metadata": {},
     "output_type": "execute_result"
    }
   ],
   "source": [
    "new_df.shape"
   ]
  },
  {
   "cell_type": "code",
   "execution_count": 33,
   "metadata": {},
   "outputs": [
    {
     "data": {
      "text/html": [
       "<div>\n",
       "<style scoped>\n",
       "    .dataframe tbody tr th:only-of-type {\n",
       "        vertical-align: middle;\n",
       "    }\n",
       "\n",
       "    .dataframe tbody tr th {\n",
       "        vertical-align: top;\n",
       "    }\n",
       "\n",
       "    .dataframe thead th {\n",
       "        text-align: right;\n",
       "    }\n",
       "</style>\n",
       "<table border=\"1\" class=\"dataframe\">\n",
       "  <thead>\n",
       "    <tr style=\"text-align: right;\">\n",
       "      <th></th>\n",
       "      <th></th>\n",
       "      <th></th>\n",
       "      <th></th>\n",
       "      <th>Genre</th>\n",
       "    </tr>\n",
       "    <tr>\n",
       "      <th>Movie Name</th>\n",
       "      <th>Release Year</th>\n",
       "      <th>Rating</th>\n",
       "      <th>Description</th>\n",
       "      <th></th>\n",
       "    </tr>\n",
       "  </thead>\n",
       "  <tbody>\n",
       "    <tr>\n",
       "      <th>#Anne Frank Parallel Stories</th>\n",
       "      <th>2019</th>\n",
       "      <th>6.5</th>\n",
       "      <th>It is based on five women who did survive the Holocaust but shared her same fate of \"deportation, suffering and being denied their childhood and adolescence,\" according to promotional materials.</th>\n",
       "      <td>[Drama,  History]</td>\n",
       "    </tr>\n",
       "    <tr>\n",
       "      <th>#BlackSkin</th>\n",
       "      <th>2022</th>\n",
       "      <th>5.8</th>\n",
       "      <th>Minneapolis, becomes a powder keg of police violence against black men in America. Multiple black men's deaths are in the hands of the Minneapolis police.</th>\n",
       "      <td>[Drama]</td>\n",
       "    </tr>\n",
       "    <tr>\n",
       "      <th>#DigitalLivesMatter</th>\n",
       "      <th>2016</th>\n",
       "      <th>6.8</th>\n",
       "      <th>Hijinks ensue, when a disgruntled fan of a social media superstar hacks into his Instagram account and removes the star's millions of followers.</th>\n",
       "      <td>[Comedy]</td>\n",
       "    </tr>\n",
       "    <tr>\n",
       "      <th>#Homecoming</th>\n",
       "      <th>2022</th>\n",
       "      <th>7.1</th>\n",
       "      <th>A group of \"friends\" and \"misfits\", who had formed a popular yet short-lived youth theatre group, reunite for the first time after seven years on an eventful Durga Pujo night at their old ... See full summary »</th>\n",
       "      <td>[Drama,  Musical]</td>\n",
       "    </tr>\n",
       "    <tr>\n",
       "      <th>#LookAtMe</th>\n",
       "      <th>2022</th>\n",
       "      <th>9.1</th>\n",
       "      <th>A Youtuber posts an irreverent video trolling a megachurch pastor, in defence of his gay twin brother. He is vilified by society, tried in court, and pitted against a culture that threatens to destroy his family.</th>\n",
       "      <td>[Drama]</td>\n",
       "    </tr>\n",
       "    <tr>\n",
       "      <th>...</th>\n",
       "      <th>...</th>\n",
       "      <th>...</th>\n",
       "      <th>...</th>\n",
       "      <td>...</td>\n",
       "    </tr>\n",
       "    <tr>\n",
       "      <th>À Tout de Suite</th>\n",
       "      <th>2004</th>\n",
       "      <th>6.5</th>\n",
       "      <th>A girl from bourgeoisie discovers the pleasures of banditism, following her lover in his lifestyle.</th>\n",
       "      <td>[Crime,  Drama,  Romance]</td>\n",
       "    </tr>\n",
       "    <tr>\n",
       "      <th>Æon Flux</th>\n",
       "      <th>2005</th>\n",
       "      <th>5.4</th>\n",
       "      <th>Æon Flux is a mysterious assassin working for the Monicans, a group of rebels trying to overthrow the government. When she is sent on a mission to kill the Chairman, a whole new mystery is found.</th>\n",
       "      <td>[Action,  Adventure,  Sci-Fi]</td>\n",
       "    </tr>\n",
       "    <tr>\n",
       "      <th>Întregalde</th>\n",
       "      <th>2021</th>\n",
       "      <th>6.8</th>\n",
       "      <th>A group of people on a humanitarian mission arrive in a remote area of Transylvania to offer the inhabitants various goods. Apart from a few quarrels and conflicts between the group members... See full summary »</th>\n",
       "      <td>[Comedy,  Drama]</td>\n",
       "    </tr>\n",
       "    <tr>\n",
       "      <th>Òlòtūré</th>\n",
       "      <th>2019</th>\n",
       "      <th>5.6</th>\n",
       "      <th>A journalist goes undercover as a prostitute to expose human trafficking but she only finds a world of exploited women and ruthless violence.</th>\n",
       "      <td>[Crime,  Drama]</td>\n",
       "    </tr>\n",
       "    <tr>\n",
       "      <th>Órbita 9</th>\n",
       "      <th>2017</th>\n",
       "      <th>5.9</th>\n",
       "      <th>Helena has lived on a spaceship since birth 20 years ago. She meets her first human besides her dead parents, when Álex repairs the oxygen supply. Things are not what they seem.</th>\n",
       "      <td>[Drama,  Sci-Fi,  Thriller]</td>\n",
       "    </tr>\n",
       "  </tbody>\n",
       "</table>\n",
       "<p>22241 rows × 1 columns</p>\n",
       "</div>"
      ],
      "text/plain": [
       "                                                                                                                             Genre\n",
       "Movie Name                   Release Year Rating Description                                                                      \n",
       "#Anne Frank Parallel Stories 2019         6.5    It is based on five women who did survive the H...              [Drama,  History]\n",
       "#BlackSkin                   2022         5.8    Minneapolis, becomes a powder keg of police vio...                        [Drama]\n",
       "#DigitalLivesMatter          2016         6.8    Hijinks ensue, when a disgruntled fan of a soci...                       [Comedy]\n",
       "#Homecoming                  2022         7.1    A group of \"friends\" and \"misfits\", who had for...              [Drama,  Musical]\n",
       "#LookAtMe                    2022         9.1    A Youtuber posts an irreverent video trolling a...                        [Drama]\n",
       "...                                                                                                                            ...\n",
       "À Tout de Suite              2004         6.5    A girl from bourgeoisie discovers the pleasures...      [Crime,  Drama,  Romance]\n",
       "Æon Flux                     2005         5.4    Æon Flux is a mysterious assassin working for t...  [Action,  Adventure,  Sci-Fi]\n",
       "Întregalde                   2021         6.8    A group of people on a humanitarian mission arr...               [Comedy,  Drama]\n",
       "Òlòtūré                      2019         5.6    A journalist goes undercover as a prostitute to...                [Crime,  Drama]\n",
       "Órbita 9                     2017         5.9    Helena has lived on a spaceship since birth 20 ...    [Drama,  Sci-Fi,  Thriller]\n",
       "\n",
       "[22241 rows x 1 columns]"
      ]
     },
     "execution_count": 33,
     "metadata": {},
     "output_type": "execute_result"
    }
   ],
   "source": [
    "new_df"
   ]
  },
  {
   "attachments": {},
   "cell_type": "markdown",
   "metadata": {},
   "source": [
    "# Data pre-processing"
   ]
  },
  {
   "attachments": {},
   "cell_type": "markdown",
   "metadata": {},
   "source": [
    "## Tokenization"
   ]
  },
  {
   "cell_type": "code",
   "execution_count": null,
   "metadata": {},
   "outputs": [],
   "source": []
  }
 ],
 "metadata": {
  "kernelspec": {
   "display_name": "Python 3",
   "language": "python",
   "name": "python3"
  },
  "language_info": {
   "codemirror_mode": {
    "name": "ipython",
    "version": 3
   },
   "file_extension": ".py",
   "mimetype": "text/x-python",
   "name": "python",
   "nbconvert_exporter": "python",
   "pygments_lexer": "ipython3",
   "version": "3.9.13"
  },
  "orig_nbformat": 4,
  "vscode": {
   "interpreter": {
    "hash": "cf91a66750ecc7788d35dda500a89acb75a4d5fcf66d36b86b31f96f17e46713"
   }
  }
 },
 "nbformat": 4,
 "nbformat_minor": 2
}
